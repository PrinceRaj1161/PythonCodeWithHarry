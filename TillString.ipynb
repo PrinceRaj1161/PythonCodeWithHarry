{
  "nbformat": 4,
  "nbformat_minor": 0,
  "metadata": {
    "colab": {
      "provenance": [],
      "authorship_tag": "ABX9TyMUoYNdaD2RS4iUTq4kslq7",
      "include_colab_link": true
    },
    "kernelspec": {
      "name": "python3",
      "display_name": "Python 3"
    },
    "language_info": {
      "name": "python"
    }
  },
  "cells": [
    {
      "cell_type": "markdown",
      "metadata": {
        "id": "view-in-github",
        "colab_type": "text"
      },
      "source": [
        "<a href=\"https://colab.research.google.com/github/PrinceRaj1161/PythonCodeWithHarry/blob/main/TillString.ipynb\" target=\"_parent\"><img src=\"https://colab.research.google.com/assets/colab-badge.svg\" alt=\"Open In Colab\"/></a>"
      ]
    },
    {
      "cell_type": "markdown",
      "source": [
        "# Our First Program"
      ],
      "metadata": {
        "id": "5lso_0Cml6CT"
      }
    },
    {
      "cell_type": "code",
      "execution_count": null,
      "metadata": {
        "colab": {
          "base_uri": "https://localhost:8080/"
        },
        "id": "2_UnIJnwlU9f",
        "outputId": "9a66eec6-8362-4773-b77f-3df6e06e7f46"
      },
      "outputs": [
        {
          "output_type": "stream",
          "name": "stdout",
          "text": [
            "7\n",
            "Hello World 8\n",
            "Bye\n",
            "Help on built-in function print in module builtins:\n",
            "\n",
            "print(...)\n",
            "    print(value, ..., sep=' ', end='\\n', file=sys.stdout, flush=False)\n",
            "    \n",
            "    Prints the values to a stream, or to sys.stdout by default.\n",
            "    Optional keyword arguments:\n",
            "    file:  a file-like object (stream); defaults to the current sys.stdout.\n",
            "    sep:   string inserted between values, default a space.\n",
            "    end:   string appended after the last value, default a newline.\n",
            "    flush: whether to forcibly flush the stream.\n",
            "\n"
          ]
        }
      ],
      "source": [
        "print(7)\n",
        "print(\"Hello World\",8)\n",
        "print(\"Bye\")\n",
        "\n",
        "help(print)"
      ]
    },
    {
      "cell_type": "markdown",
      "source": [
        "# Comments, Escape, Sequences & Print statement"
      ],
      "metadata": {
        "id": "aqV9Eck7nIo0"
      }
    },
    {
      "cell_type": "markdown",
      "source": [
        "## Comments"
      ],
      "metadata": {
        "id": "wzWdPNDppnHD"
      }
    },
    {
      "cell_type": "markdown",
      "source": [
        "There are two types of comments.\n",
        "\n",
        "\n",
        "1.   Multiline\n",
        "2.   Single line\n",
        "\n"
      ],
      "metadata": {
        "id": "wBDmSBBsp23O"
      }
    },
    {
      "cell_type": "code",
      "source": [
        "# This is single line comment\n",
        "\n",
        "''' This is multiline comment\n",
        "Next line\n",
        "'''\n",
        "\n",
        "\"\"\" We can also use double quotes for\n",
        "multiline comment \"\"\"\n",
        "\n",
        "print(\"Hello\") #We can also use comment like this"
      ],
      "metadata": {
        "colab": {
          "base_uri": "https://localhost:8080/"
        },
        "id": "cJtqqjQGpmsn",
        "outputId": "c6f0204c-f911-4c7b-f401-d646426bf57a"
      },
      "execution_count": null,
      "outputs": [
        {
          "output_type": "stream",
          "name": "stdout",
          "text": [
            "Hello\n"
          ]
        }
      ]
    },
    {
      "cell_type": "markdown",
      "source": [
        "## Escape sequence"
      ],
      "metadata": {
        "id": "xCRhgst1r041"
      }
    },
    {
      "cell_type": "code",
      "source": [
        "# Escape sequence is those characters that can be represented inside a print statement  or anywhere.\n",
        "# Example: - newline, etc\n",
        "\n",
        "print(\"Hello \\nnewline World\")\n",
        "\n",
        "# We can also use it \"\"\n",
        "print()\n",
        "print(\"\\\"Hello World\\\"\")"
      ],
      "metadata": {
        "colab": {
          "base_uri": "https://localhost:8080/"
        },
        "id": "fA-A6o9Sr4Gk",
        "outputId": "4067dadf-7bb4-4715-bf64-a88db367bf49"
      },
      "execution_count": null,
      "outputs": [
        {
          "output_type": "stream",
          "name": "stdout",
          "text": [
            "Hello \n",
            "newline World\n",
            "\n",
            "\"Hello World\"\n"
          ]
        }
      ]
    },
    {
      "cell_type": "markdown",
      "source": [
        "## More about Print Statement"
      ],
      "metadata": {
        "id": "Hzo2zGT3tyuu"
      }
    },
    {
      "cell_type": "code",
      "source": [
        "help(print)\n",
        "\n",
        "\"\"\"\n",
        "print(...)\n",
        "    print(value, ..., sep=' ', end='\\n', file=sys.stdout, flush=False)\n",
        "\n",
        "    Prints the values to a stream, or to sys.stdout by default.\n",
        "    Optional keyword arguments:\n",
        "    file:  a file-like object (stream); defaults to the current sys.stdout.\n",
        "    sep:   string inserted between values, default a space.\n",
        "    end:   string appended after the last value, default a newline.\n",
        "    flush: whether to forcibly flush the stream.\n",
        "\"\"\""
      ],
      "metadata": {
        "colab": {
          "base_uri": "https://localhost:8080/"
        },
        "id": "0mPJ6V8jt3qt",
        "outputId": "8997d7b2-a7c1-46b3-d83e-31e26a924965"
      },
      "execution_count": null,
      "outputs": [
        {
          "output_type": "stream",
          "name": "stdout",
          "text": [
            "Help on built-in function print in module builtins:\n",
            "\n",
            "print(...)\n",
            "    print(value, ..., sep=' ', end='\\n', file=sys.stdout, flush=False)\n",
            "    \n",
            "    Prints the values to a stream, or to sys.stdout by default.\n",
            "    Optional keyword arguments:\n",
            "    file:  a file-like object (stream); defaults to the current sys.stdout.\n",
            "    sep:   string inserted between values, default a space.\n",
            "    end:   string appended after the last value, default a newline.\n",
            "    flush: whether to forcibly flush the stream.\n",
            "\n"
          ]
        },
        {
          "output_type": "execute_result",
          "data": {
            "text/plain": [
              "\"\\nprint(...)\\n    print(value, ..., sep=' ', end='\\n', file=sys.stdout, flush=False)\\n\\n    Prints the values to a stream, or to sys.stdout by default.\\n    Optional keyword arguments:\\n    file:  a file-like object (stream); defaults to the current sys.stdout.\\n    sep:   string inserted between values, default a space.\\n    end:   string appended after the last value, default a newline.\\n    flush: whether to forcibly flush the stream.\\n\""
            ],
            "application/vnd.google.colaboratory.intrinsic+json": {
              "type": "string"
            }
          },
          "metadata": {},
          "execution_count": 4
        }
      ]
    },
    {
      "cell_type": "code",
      "source": [
        "# Let's see it one by one\n",
        "\n",
        "# i) We can print multiple values at single time using ,\n",
        "print(1,2,\"Hello\",\"King\",\"Time\",7.89)\n",
        "\n",
        "# ii) sep :-\n",
        "print(1,2,\"Hello\",\"King\",\"Time\",7.89,sep=\"~\")\n",
        "\n",
        "#iii) end: -\n",
        "print(1,2,\"Hello\",\"King\",\"Time\",7.89,end=\"90\")\n",
        "print(\"Continued string\")\n",
        "\n",
        "# Combining both\n",
        "print(1,2,\"Hello\",\"King\",\"Time\",7.89,sep=\"~\",end=\"\\\\n\")\n",
        "print(\"Next thing\")"
      ],
      "metadata": {
        "colab": {
          "base_uri": "https://localhost:8080/"
        },
        "id": "VvTxKRj5uBca",
        "outputId": "89af1949-c45d-44f6-bdad-43099c0d8313"
      },
      "execution_count": null,
      "outputs": [
        {
          "output_type": "stream",
          "name": "stdout",
          "text": [
            "1 2 Hello King Time 7.89\n",
            "1~2~Hello~King~Time~7.89\n",
            "1 2 Hello King Time 7.8990Continued string\n",
            "1~2~Hello~King~Time~7.89\\nNext thing\n"
          ]
        }
      ]
    },
    {
      "cell_type": "markdown",
      "source": [
        "# Variables and Datatypes"
      ],
      "metadata": {
        "id": "IaPCr90wvoSw"
      }
    },
    {
      "cell_type": "code",
      "source": [
        "# Variables are like container used to assign values.\n",
        "a = 45\n",
        "b = True\n",
        "c = \"Harry\"\n",
        "d = None\n",
        "\n",
        "print(a)\n",
        "print(b)\n",
        "print(c)\n",
        "print(d)"
      ],
      "metadata": {
        "colab": {
          "base_uri": "https://localhost:8080/"
        },
        "id": "ZXxF5rVzvrkp",
        "outputId": "b57b720c-4e32-490b-f43b-589065220a72"
      },
      "execution_count": null,
      "outputs": [
        {
          "output_type": "stream",
          "name": "stdout",
          "text": [
            "45\n",
            "True\n",
            "Harry\n",
            "None\n"
          ]
        }
      ]
    },
    {
      "cell_type": "code",
      "source": [
        "# Requirement for data types\n",
        "Harry = 9\n",
        "b = Harry\n",
        "print(b)\n",
        "\n",
        "#But we want literal Harry, but we didn't got one"
      ],
      "metadata": {
        "colab": {
          "base_uri": "https://localhost:8080/"
        },
        "id": "DQKmRMa3xuYS",
        "outputId": "5e5db160-dfb6-4731-bc58-970782c290c3"
      },
      "execution_count": null,
      "outputs": [
        {
          "output_type": "stream",
          "name": "stdout",
          "text": [
            "9\n"
          ]
        }
      ]
    },
    {
      "cell_type": "code",
      "source": [
        "# There are many types of data-types, we are going to study it one by one.\n",
        "\n",
        "# Type-1\n",
        "# Numbers: - int, float, complex\n",
        "\n",
        "a = 45\n",
        "b = 1.34\n",
        "c = complex(4,5)\n",
        "\n",
        "print(a,type(a))\n",
        "print(b,type(b))\n",
        "print(c,type(c))"
      ],
      "metadata": {
        "colab": {
          "base_uri": "https://localhost:8080/"
        },
        "id": "q4_LcDOkf_TR",
        "outputId": "690aead8-112b-4b65-b497-5c1610f114cb"
      },
      "execution_count": null,
      "outputs": [
        {
          "output_type": "stream",
          "name": "stdout",
          "text": [
            "45 <class 'int'>\n",
            "1.34 <class 'float'>\n",
            "(4+5j) <class 'complex'>\n"
          ]
        }
      ]
    },
    {
      "cell_type": "code",
      "source": [
        "# Type-2\n",
        "# String\n",
        "st = \"Hello World\"\n",
        "print(st,type(st))"
      ],
      "metadata": {
        "colab": {
          "base_uri": "https://localhost:8080/"
        },
        "id": "pTvqR7jRiU2W",
        "outputId": "9f1acb63-e1c7-4f90-f88f-11616a90c1c5"
      },
      "execution_count": null,
      "outputs": [
        {
          "output_type": "stream",
          "name": "stdout",
          "text": [
            "Hello World <class 'str'>\n"
          ]
        }
      ]
    },
    {
      "cell_type": "code",
      "source": [
        "# Type-3\n",
        "# boolean\n",
        "a1 = True\n",
        "b1 = False\n",
        "print(a1,type(a1))\n",
        "print(b1,type(b1))"
      ],
      "metadata": {
        "colab": {
          "base_uri": "https://localhost:8080/"
        },
        "id": "TkGxDxkujfm1",
        "outputId": "06d0e5a0-ca1c-4ad3-8b02-08cb71cf6d39"
      },
      "execution_count": null,
      "outputs": [
        {
          "output_type": "stream",
          "name": "stdout",
          "text": [
            "True <class 'bool'>\n",
            "False <class 'bool'>\n"
          ]
        }
      ]
    },
    {
      "cell_type": "code",
      "source": [
        "# Type-4\n",
        "# Sequencial : - List, Tuple, dictionary\n",
        "\n",
        "#List\n",
        "li = [1,2,[3,4],\"Hello\"]\n",
        "print(li,type(li))\n",
        "\n",
        "#Tuple\n",
        "tu= (1,2,3,[2,3],\"Hello\")\n",
        "print(tu,type(tu))\n",
        "\n",
        "dic = {\"k1\":1 , \"K2\" : 2}\n",
        "print(dic,type(dic))"
      ],
      "metadata": {
        "colab": {
          "base_uri": "https://localhost:8080/"
        },
        "id": "DeT_lEQjkJet",
        "outputId": "e2c37a0d-3c1c-449e-b652-f9407f3f0f0c"
      },
      "execution_count": null,
      "outputs": [
        {
          "output_type": "stream",
          "name": "stdout",
          "text": [
            "[1, 2, [3, 4], 'Hello'] <class 'list'>\n",
            "(1, 2, 3, [2, 3], 'Hello') <class 'tuple'>\n",
            "{'k1': 1, 'K2': 2} <class 'dict'>\n"
          ]
        }
      ]
    },
    {
      "cell_type": "markdown",
      "source": [
        "# Exercise 1"
      ],
      "metadata": {
        "id": "t5-D4hPomwfi"
      }
    },
    {
      "cell_type": "code",
      "source": [
        "n = 8\n",
        "m = 3\n",
        "\n",
        "print(n,\"+\",m,\"=\",n+m)\n",
        "print(n,\"-\",m,\"=\",n-m)\n",
        "print(n,\"*\",m,\"=\",n*m)\n",
        "print(n,\"/\",m,\"=\",n/m)\n",
        "print(n,\"**\",m,\"=\",n**m)\n",
        "print(n,\"//\",m,\"=\",n//m)"
      ],
      "metadata": {
        "colab": {
          "base_uri": "https://localhost:8080/"
        },
        "id": "oWI8sfb1m5UV",
        "outputId": "ecaea172-fb19-4e54-cd5d-965f847499c2"
      },
      "execution_count": null,
      "outputs": [
        {
          "output_type": "stream",
          "name": "stdout",
          "text": [
            "8 + 3 = 11\n",
            "8 - 3 = 5\n",
            "8 * 3 = 24\n",
            "8 / 3 = 2.6666666666666665\n",
            "8 ** 3 = 512\n",
            "8 // 3 = 2\n"
          ]
        }
      ]
    },
    {
      "cell_type": "markdown",
      "source": [
        "# Type-Casting"
      ],
      "metadata": {
        "id": "VM-ihr8y6Gka"
      }
    },
    {
      "cell_type": "code",
      "source": [
        "a = \"1\"\n",
        "b = \"2\"\n",
        "print(a+b)\n",
        "\n",
        "# We do type-casting, it is also known as type-conversion\n",
        "a = int(a)\n",
        "b = int(b)\n",
        "print(a+b)\n",
        "\n",
        "# a = \"Harry\"\n",
        "# a = int(a)\n",
        "# print(a)"
      ],
      "metadata": {
        "colab": {
          "base_uri": "https://localhost:8080/"
        },
        "id": "1EztkU076Kw4",
        "outputId": "277ef8e5-20e7-4be5-8796-251a091cc177"
      },
      "execution_count": null,
      "outputs": [
        {
          "output_type": "stream",
          "name": "stdout",
          "text": [
            "12\n",
            "3\n"
          ]
        }
      ]
    },
    {
      "cell_type": "markdown",
      "source": [
        "## Types"
      ],
      "metadata": {
        "id": "afxcpsVR8R_s"
      }
    },
    {
      "cell_type": "code",
      "source": [
        "# There are two types of type-casting\n",
        "# i) Explicit Conversion\n",
        "# ii) Implicit Conversion\n",
        "\n",
        "# i) Explict conversion: - I am doing the conversion as a programmer.\n",
        "\n",
        "a = 45\n",
        "b = \"23\"\n",
        "\n",
        "#We do implict type-casting\n",
        "b = int(b)  #We are telling here to convert it in int\n",
        "print(a+b)"
      ],
      "metadata": {
        "colab": {
          "base_uri": "https://localhost:8080/"
        },
        "id": "Zw25PIUt8UEI",
        "outputId": "fd05659a-ff95-4643-f500-80dd72349cfe"
      },
      "execution_count": null,
      "outputs": [
        {
          "output_type": "stream",
          "name": "stdout",
          "text": [
            "68\n"
          ]
        }
      ]
    },
    {
      "cell_type": "code",
      "source": [
        "# Implict casting\n",
        "a = 2.4\n",
        "b = 2\n",
        "c = a+b\n",
        "print(c,type(c)) #It automatically converts it into float"
      ],
      "metadata": {
        "colab": {
          "base_uri": "https://localhost:8080/"
        },
        "id": "vXS-Cb4VCn8O",
        "outputId": "c4776317-1cf1-4cb8-a72a-1324aceb91b2"
      },
      "execution_count": null,
      "outputs": [
        {
          "output_type": "stream",
          "name": "stdout",
          "text": [
            "4.4 <class 'float'>\n"
          ]
        }
      ]
    },
    {
      "cell_type": "markdown",
      "source": [
        "# Taking User Input"
      ],
      "metadata": {
        "id": "M10lEsBoFuMs"
      }
    },
    {
      "cell_type": "code",
      "source": [
        "# Input takes string prompt\n",
        "a = input();\n",
        "print(a)\n",
        "\n",
        "#We can also input as\n",
        "a = input(\"Enter a string: \")\n",
        "print(a)\n",
        "\n",
        "# In order to enter a perticular data type we use type-casting\n",
        "a = int(input(\"Enter a number\"))\n",
        "print(a,type(a))"
      ],
      "metadata": {
        "colab": {
          "base_uri": "https://localhost:8080/"
        },
        "id": "wB49VPT4FyjB",
        "outputId": "f884f123-d785-4b25-d9ca-2537c9947ce2"
      },
      "execution_count": null,
      "outputs": [
        {
          "output_type": "stream",
          "name": "stdout",
          "text": [
            "Hello\n",
            "Hello\n",
            "Enter a string: Ghdbd\n",
            "Ghdbd\n",
            "Enter a number23\n",
            "23 <class 'int'>\n"
          ]
        }
      ]
    },
    {
      "cell_type": "markdown",
      "source": [
        "# Strings"
      ],
      "metadata": {
        "id": "h-99f_VEMF9I"
      }
    },
    {
      "cell_type": "code",
      "source": [
        "# Anything enclosed in double quotes(\" \") or single quotes (' ')is a sting\n",
        "one = \"Hello\"\n",
        "two = 'king'\n",
        "\n",
        "print(one,two)\n",
        "\n",
        "print(\"\\n\")\n",
        "\n",
        "# Multiline string\n",
        "multistr = \"\"\" Hello, This is multiline string\n",
        "This is another line , this is\n",
        "another one \"\"\"\n",
        "print(multistr)\n",
        "\n",
        "print(\"\\n\")\n",
        "\n",
        "# It can also be in triple single quotes.\n",
        "multistr = ''' Hello, my name is\n",
        "string args. Hello, king kanf\n",
        "ansother one '''\n",
        "\n",
        "print(multistr, type(multistr))"
      ],
      "metadata": {
        "colab": {
          "base_uri": "https://localhost:8080/"
        },
        "id": "BaDSKpWgMHYf",
        "outputId": "54459860-bb12-4b88-a6bf-25cbc5d30861"
      },
      "execution_count": null,
      "outputs": [
        {
          "output_type": "stream",
          "name": "stdout",
          "text": [
            "Hello king\n",
            "\n",
            "\n",
            " Hello, This is multiline string\n",
            "This is another line , this is \n",
            "another one \n",
            "\n",
            "\n",
            " Hello, my name is \n",
            "string args. Hello, king kanf\n",
            "ansother one  <class 'str'>\n"
          ]
        }
      ]
    },
    {
      "cell_type": "code",
      "source": [
        "# Accessing an element of string\n",
        "\n",
        "str1 = \"Hello\"\n",
        "print(str1[0])\n",
        "\n",
        "multistr = ''' Hello, my name is\n",
        "string args. Hello, king kanf\n",
        "ansother one '''\n",
        "\n",
        "for char in multistr:\n",
        "  print(char)"
      ],
      "metadata": {
        "colab": {
          "base_uri": "https://localhost:8080/"
        },
        "id": "FgfgeKnbPNYc",
        "outputId": "b19905d5-140f-476c-d43b-8370a622f63e"
      },
      "execution_count": null,
      "outputs": [
        {
          "output_type": "stream",
          "name": "stdout",
          "text": [
            "H\n",
            " \n",
            "H\n",
            "e\n",
            "l\n",
            "l\n",
            "o\n",
            ",\n",
            " \n",
            "m\n",
            "y\n",
            " \n",
            "n\n",
            "a\n",
            "m\n",
            "e\n",
            " \n",
            "i\n",
            "s\n",
            " \n",
            "\n",
            "\n",
            "s\n",
            "t\n",
            "r\n",
            "i\n",
            "n\n",
            "g\n",
            " \n",
            "a\n",
            "r\n",
            "g\n",
            "s\n",
            ".\n",
            " \n",
            "H\n",
            "e\n",
            "l\n",
            "l\n",
            "o\n",
            ",\n",
            " \n",
            "k\n",
            "i\n",
            "n\n",
            "g\n",
            " \n",
            "k\n",
            "a\n",
            "n\n",
            "f\n",
            "\n",
            "\n",
            "a\n",
            "n\n",
            "s\n",
            "o\n",
            "t\n",
            "h\n",
            "e\n",
            "r\n",
            " \n",
            "o\n",
            "n\n",
            "e\n",
            " \n"
          ]
        }
      ]
    },
    {
      "cell_type": "markdown",
      "source": [
        "# Strings Slicing and Operations on Strings"
      ],
      "metadata": {
        "id": "gjbHtfYiSB1Q"
      }
    },
    {
      "cell_type": "code",
      "source": [
        "# slicing\n",
        "str1 = \"Hello,PrinceRaj\"\n",
        "print(str1[0:5]) #It is 0 to n-1 index\n",
        "\n",
        "# Length of the string\n",
        "str1 = len(str1)\n",
        "print(str1)"
      ],
      "metadata": {
        "id": "NAzX7QeFSDC8",
        "colab": {
          "base_uri": "https://localhost:8080/"
        },
        "outputId": "836fbe9f-db39-4952-f7b6-bfb52f7fc120"
      },
      "execution_count": 3,
      "outputs": [
        {
          "output_type": "stream",
          "name": "stdout",
          "text": [
            "Hello\n",
            "15\n"
          ]
        }
      ]
    },
    {
      "cell_type": "code",
      "source": [
        "#More slicing\n",
        "str1=\"Hello,PrinceRaj\"\n",
        "print(str1[1:]) #It reads it as [1:len(str1)]\n",
        "\n",
        "#We can also use negative indexing\n",
        "print(str1[0:-2]) #It reads it as [0:len(str1)-2]"
      ],
      "metadata": {
        "colab": {
          "base_uri": "https://localhost:8080/"
        },
        "id": "MS-Is_UIo7BJ",
        "outputId": "d7e9b531-e52a-4b55-affe-45784e8b48d6"
      },
      "execution_count": 5,
      "outputs": [
        {
          "output_type": "stream",
          "name": "stdout",
          "text": [
            "ello,PrinceRaj\n",
            "Hello,PrinceR\n"
          ]
        }
      ]
    },
    {
      "cell_type": "markdown",
      "source": [
        "# String Methods"
      ],
      "metadata": {
        "id": "I4amNP-UqBaJ"
      }
    },
    {
      "cell_type": "code",
      "source": [
        "# String are immutable\n",
        "\n",
        "#Upper\n",
        "a = \"HASS dfhdhf dUu57\"\n",
        "print(a.upper()) #Converts to uppercase\n",
        "print(a) #no changes take place\n",
        "\n",
        "print(\"\\n\")\n",
        "\n",
        "#lower\n",
        "print(a.lower()) #Converts to lower case\n"
      ],
      "metadata": {
        "colab": {
          "base_uri": "https://localhost:8080/"
        },
        "id": "zYfpK8R1qDej",
        "outputId": "f9be7b55-7a05-4656-8528-f4dd4acbb94d"
      },
      "execution_count": 7,
      "outputs": [
        {
          "output_type": "stream",
          "name": "stdout",
          "text": [
            "HASS DFHDHF DUU57\n",
            "HASS dfhdhf dUu57\n",
            "\n",
            "\n",
            "hass dfhdhf duu57\n"
          ]
        }
      ]
    },
    {
      "cell_type": "code",
      "source": [
        "# rstrip\n",
        "\n",
        "#It works only for end of the string but not for the front of the string\n",
        "\n",
        "a = \"!!!Prince Raj!!!!!!\"\n",
        "print(a.rstrip(\"!\")) #It only works for the end of the string not the front\n",
        "\n"
      ],
      "metadata": {
        "colab": {
          "base_uri": "https://localhost:8080/"
        },
        "id": "Da0Cn7H7rwuM",
        "outputId": "384767b1-9c3a-4e99-a769-199e9573a8c6"
      },
      "execution_count": 9,
      "outputs": [
        {
          "output_type": "stream",
          "name": "stdout",
          "text": [
            "!!!Prince Raj\n"
          ]
        }
      ]
    },
    {
      "cell_type": "code",
      "source": [
        "# replace\n",
        "# It simply replaces one string with another string\n",
        "\n",
        "a = \"Ram is a bad boy. \"\n",
        "print(a.replace(\"Ram\",\"Sita\"))"
      ],
      "metadata": {
        "colab": {
          "base_uri": "https://localhost:8080/"
        },
        "id": "N6YecJswtjAe",
        "outputId": "fab3d26d-c26a-4a7d-e275-a3609ae0d219"
      },
      "execution_count": 10,
      "outputs": [
        {
          "output_type": "stream",
          "name": "stdout",
          "text": [
            "Sita is a bad boy. \n"
          ]
        }
      ]
    },
    {
      "cell_type": "code",
      "source": [
        "# split\n",
        "# It split and returns in form of list\n",
        "\n",
        "a =\"1,2,3,4,5,6,7\"\n",
        "str1 = a.split(\",\")\n",
        "print(str1)"
      ],
      "metadata": {
        "colab": {
          "base_uri": "https://localhost:8080/"
        },
        "id": "hi9cQ-B9ugLk",
        "outputId": "c65b53ae-97d6-432f-a59b-3b05b7f7899f"
      },
      "execution_count": 11,
      "outputs": [
        {
          "output_type": "stream",
          "name": "stdout",
          "text": [
            "['1', '2', '3', '4', '5', '6', '7']\n"
          ]
        }
      ]
    },
    {
      "cell_type": "code",
      "source": [
        "# Capitalize\n",
        "# It makes first string as capital and rest as small\n",
        "\n",
        "a = \"king Ogd HSHavsjd\"\n",
        "print(a.capitalize())"
      ],
      "metadata": {
        "colab": {
          "base_uri": "https://localhost:8080/"
        },
        "id": "n9C7uzRdu6jz",
        "outputId": "5222379d-b517-4243-93ef-a4aef6fec8e3"
      },
      "execution_count": 13,
      "outputs": [
        {
          "output_type": "stream",
          "name": "stdout",
          "text": [
            "King ogd hshavsjd\n"
          ]
        }
      ]
    },
    {
      "cell_type": "code",
      "source": [
        "# center\n",
        "# It places the string to a specified position\n",
        "\n",
        "a = \"Hello\"\n",
        "print(a.center(50,\".\"))\n",
        "\n",
        "# In order to what it happening lets find the length of the string\n",
        "print(len(a))\n",
        "print(len(a.center(50,\".\")))"
      ],
      "metadata": {
        "colab": {
          "base_uri": "https://localhost:8080/"
        },
        "id": "bhrJK4YovmtW",
        "outputId": "a8b8d607-5ce1-4276-8f6a-9d310846c324"
      },
      "execution_count": 14,
      "outputs": [
        {
          "output_type": "stream",
          "name": "stdout",
          "text": [
            "......................Hello.......................\n",
            "5\n",
            "50\n"
          ]
        }
      ]
    },
    {
      "cell_type": "code",
      "source": [
        "#count\n",
        "a = \"qewtadafiuogfmhfgvksimkc,zkcbifsrsfkfpowkjfhe,kz;kmlsdioalkashngahstyuewidkjswnadoksvjgj\"\n",
        "\n",
        "print(a.count(\"h\")) #There 4 h in the string a"
      ],
      "metadata": {
        "colab": {
          "base_uri": "https://localhost:8080/"
        },
        "id": "HdOhvINuxVDl",
        "outputId": "d863835f-cc1b-436f-fe3d-9ec839dfb527"
      },
      "execution_count": 16,
      "outputs": [
        {
          "output_type": "stream",
          "name": "stdout",
          "text": [
            "4\n"
          ]
        }
      ]
    },
    {
      "cell_type": "code",
      "source": [
        "# endswith\n",
        "\n",
        "#Returns a boolean value, if the given string is at end of not\n",
        "a = \"Prince Raj\"\n",
        "\n",
        "print(a.endswith(\"aj\"))\n",
        "\n",
        "#We can also use substring.\n",
        "print(a.endswith(\"ce\",3,6))"
      ],
      "metadata": {
        "colab": {
          "base_uri": "https://localhost:8080/"
        },
        "id": "3PKCo5awxpfs",
        "outputId": "21e46cda-6954-4b85-a06d-7b7e94ba8f47"
      },
      "execution_count": 18,
      "outputs": [
        {
          "output_type": "stream",
          "name": "stdout",
          "text": [
            "True\n",
            "True\n"
          ]
        }
      ]
    },
    {
      "cell_type": "code",
      "source": [
        "# find\n",
        "# Returns the starting index of the first occurence of the given string\n",
        "\n",
        "a = \"Soun's a bad boy. He left his watch.\"\n",
        "print(a.find(\"is\"))\n",
        "print(a[26:])\n",
        "\n",
        "\n",
        "# index is same as find but it returns error if we get false in find."
      ],
      "metadata": {
        "colab": {
          "base_uri": "https://localhost:8080/"
        },
        "id": "cYZfSRX4yrkH",
        "outputId": "2c38bb68-a603-4d6e-da0a-bd0e2db67a23"
      },
      "execution_count": 30,
      "outputs": [
        {
          "output_type": "stream",
          "name": "stdout",
          "text": [
            "27\n",
            "his watch.\n"
          ]
        }
      ]
    },
    {
      "cell_type": "code",
      "source": [
        "#isalnum\n",
        "# Checks if the string consists of only alphabet and numbers\n",
        "\n",
        "a = \"123gsjfgdvfsijvr492382738wbdshftet\"\n",
        "b = \"aiufw7e8390o2e3iedisbjcjf80err8uir7ewkui fiehfamgj\"\n",
        "print(a.isalnum())\n",
        "print(b.isalnum())"
      ],
      "metadata": {
        "colab": {
          "base_uri": "https://localhost:8080/"
        },
        "id": "qh3eoBaTzg0J",
        "outputId": "825242ef-9b5c-486f-a0db-6b05e3f2fdd0"
      },
      "execution_count": 22,
      "outputs": [
        {
          "output_type": "stream",
          "name": "stdout",
          "text": [
            "True\n",
            "False\n"
          ]
        }
      ]
    },
    {
      "cell_type": "code",
      "source": [
        "#isalpha\n",
        "# Checks if the string consists of alphabet only\n",
        "\n",
        "a = \"Welcosdjs\"\n",
        "b = \"sheuwq134\"\n",
        "print(a.isalpha())\n",
        "print(b.isalpha())"
      ],
      "metadata": {
        "colab": {
          "base_uri": "https://localhost:8080/"
        },
        "id": "_2cDUITr1i0N",
        "outputId": "fbd916c8-505b-4b02-92df-213b99687a17"
      },
      "execution_count": 23,
      "outputs": [
        {
          "output_type": "stream",
          "name": "stdout",
          "text": [
            "True\n",
            "False\n"
          ]
        }
      ]
    },
    {
      "cell_type": "code",
      "source": [
        "#islower\n",
        "\n",
        "# Checks if the string consists of no uppercase character.\n",
        "\n",
        "a = \"dgskma,[;'[sffks]]\"\n",
        "b = \"shdsjnsm\"\n",
        "c = \"Gbsjsnaj\"\n",
        "\n",
        "print(a.islower())\n",
        "print(b.islower())\n",
        "print(c.islower())\n"
      ],
      "metadata": {
        "colab": {
          "base_uri": "https://localhost:8080/"
        },
        "id": "Zx0YmdvD5QDD",
        "outputId": "bcd5950f-8e28-45de-fb1a-1caeb1ed97b1"
      },
      "execution_count": 24,
      "outputs": [
        {
          "output_type": "stream",
          "name": "stdout",
          "text": [
            "True\n",
            "True\n",
            "False\n"
          ]
        }
      ]
    },
    {
      "cell_type": "code",
      "source": [
        "# isprintable\n",
        "\n",
        "# Checks if the string is printable or not.\n",
        "\n",
        "a = \"difmemewro \\n fhfdi\"\n",
        "b = \"Adjvbnm fk,gmd ggmldkjgtkmdl\"\n",
        "print(a.isprintable())\n",
        "print(b.isprintable())"
      ],
      "metadata": {
        "colab": {
          "base_uri": "https://localhost:8080/"
        },
        "id": "t47RZsht6P3S",
        "outputId": "242efc2e-1294-4546-88c6-668fd47c4732"
      },
      "execution_count": 26,
      "outputs": [
        {
          "output_type": "stream",
          "name": "stdout",
          "text": [
            "False\n",
            "True\n"
          ]
        }
      ]
    },
    {
      "cell_type": "code",
      "source": [
        "#isspace\n",
        "\n",
        "# Check if there is only spaces in the string\n",
        "\n",
        "a = \"         \"\n",
        "b = \"         \"\n",
        "\n",
        "print(a.isspace())\n",
        "print(b.isspace())"
      ],
      "metadata": {
        "colab": {
          "base_uri": "https://localhost:8080/"
        },
        "id": "GfDsgXyC8PRx",
        "outputId": "450f396c-cc35-4dd8-9210-1cfd2c5c1341"
      },
      "execution_count": 27,
      "outputs": [
        {
          "output_type": "stream",
          "name": "stdout",
          "text": [
            "True\n",
            "True\n"
          ]
        }
      ]
    },
    {
      "cell_type": "code",
      "source": [
        "# istitle\n",
        "\n",
        "# returns true if all starting words starts with uppercase and others are lowercase\n",
        "\n",
        "a = \"Abd akd Nbsua\"\n",
        "b = \"SJD Ajdj Alns\"\n",
        "c = \"Abd Bmdk Cfjn\"\n",
        "\n",
        "print(a.istitle())\n",
        "print(b.istitle())\n",
        "print(c.istitle())"
      ],
      "metadata": {
        "colab": {
          "base_uri": "https://localhost:8080/"
        },
        "id": "EfB9_dA9_2jU",
        "outputId": "91c745ef-7078-45e1-c6e7-3457676a32d8"
      },
      "execution_count": 28,
      "outputs": [
        {
          "output_type": "stream",
          "name": "stdout",
          "text": [
            "False\n",
            "False\n",
            "True\n"
          ]
        }
      ]
    },
    {
      "cell_type": "code",
      "source": [
        "# isupper\n",
        "\n",
        "a = \"JADUSJAFSJ\"\n",
        "b = \"JGBSJANndjhks\"\n",
        "print(a.isupper())\n",
        "print(b.isupper())"
      ],
      "metadata": {
        "colab": {
          "base_uri": "https://localhost:8080/"
        },
        "id": "ZSZPxb-LJ9gV",
        "outputId": "7a631461-9739-440b-a902-26ded25a7522"
      },
      "execution_count": 29,
      "outputs": [
        {
          "output_type": "stream",
          "name": "stdout",
          "text": [
            "True\n",
            "False\n"
          ]
        }
      ]
    },
    {
      "cell_type": "code",
      "source": [
        "# startswith\n",
        "\n",
        "a = \"Python is an extremely easy language.\"\n",
        "print(a.startswith(\"Python\"))"
      ],
      "metadata": {
        "colab": {
          "base_uri": "https://localhost:8080/"
        },
        "id": "8T_9rF2fKT12",
        "outputId": "cd94624d-57bc-4491-c395-c1a77bd8b31c"
      },
      "execution_count": 31,
      "outputs": [
        {
          "output_type": "stream",
          "name": "stdout",
          "text": [
            "True\n"
          ]
        }
      ]
    },
    {
      "cell_type": "code",
      "source": [
        "#swapcase\n",
        "#Converts lower to upper and upper to lower\n",
        "\n",
        "a = \"JjLKIJuGJGukgJHIYujOgmj\"\n",
        "print(a.swapcase())"
      ],
      "metadata": {
        "colab": {
          "base_uri": "https://localhost:8080/"
        },
        "id": "ReRzU9hyK4S9",
        "outputId": "fa618b83-ae17-4558-fe28-2510abe92773"
      },
      "execution_count": 32,
      "outputs": [
        {
          "output_type": "stream",
          "name": "stdout",
          "text": [
            "jJlkijUgjgUKGjhiyUJoGMJ\n"
          ]
        }
      ]
    },
    {
      "cell_type": "code",
      "source": [
        "#title\n",
        "# Converts each starting of the word to uppercase and rest as lower case\n",
        "\n",
        "a = \"Hello , I am prince raj\"\n",
        "print(a.title())"
      ],
      "metadata": {
        "colab": {
          "base_uri": "https://localhost:8080/"
        },
        "id": "bVJhqk1fLVpR",
        "outputId": "bcc21a67-a10d-47fb-ef2d-91ec5e8f368c"
      },
      "execution_count": 33,
      "outputs": [
        {
          "output_type": "stream",
          "name": "stdout",
          "text": [
            "Hello , I Am Prince Raj\n"
          ]
        }
      ]
    }
  ]
}