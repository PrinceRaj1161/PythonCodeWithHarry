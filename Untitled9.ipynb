{
  "nbformat": 4,
  "nbformat_minor": 0,
  "metadata": {
    "colab": {
      "provenance": [],
      "authorship_tag": "ABX9TyMnCSI0zKZQY/mBRj9aX89r",
      "include_colab_link": true
    },
    "kernelspec": {
      "name": "python3",
      "display_name": "Python 3"
    },
    "language_info": {
      "name": "python"
    }
  },
  "cells": [
    {
      "cell_type": "markdown",
      "metadata": {
        "id": "view-in-github",
        "colab_type": "text"
      },
      "source": [
        "<a href=\"https://colab.research.google.com/github/PrinceRaj1161/PythonCodeWithHarry/blob/main/Untitled9.ipynb\" target=\"_parent\"><img src=\"https://colab.research.google.com/assets/colab-badge.svg\" alt=\"Open In Colab\"/></a>"
      ]
    },
    {
      "cell_type": "markdown",
      "source": [
        "# If Else"
      ],
      "metadata": {
        "id": "qc8s4MgNiS7F"
      }
    },
    {
      "cell_type": "code",
      "source": [
        "a = int(input(\"Enter the age\"))\n",
        "print(\"The age is: \",a)\n",
        "\n",
        "if a>18:\n",
        "  print(\"You can drive.\")\n",
        "else :\n",
        "  print(\"You can't drive\")"
      ],
      "metadata": {
        "colab": {
          "base_uri": "https://localhost:8080/"
        },
        "id": "RNltwfdDgs3M",
        "outputId": "227b9b67-a2f2-452d-974c-98ae9526b95b"
      },
      "execution_count": 1,
      "outputs": [
        {
          "output_type": "stream",
          "name": "stdout",
          "text": [
            "Enter the age12\n",
            "The age is:  12\n",
            "You can't drive\n"
          ]
        }
      ]
    },
    {
      "cell_type": "code",
      "source": [
        "import time\n",
        "timestamp = time.strftime('%H:%M:%S')\n",
        "print(timestamp)\n",
        "print(time.strftime('%H'))\n",
        "print(time.strftime('%M'))\n",
        "print(time.strftime('%S'))"
      ],
      "metadata": {
        "colab": {
          "base_uri": "https://localhost:8080/"
        },
        "id": "m3QM7fX_iV1e",
        "outputId": "c76b6f58-b5ca-40aa-85db-0d409bebe09c"
      },
      "execution_count": 2,
      "outputs": [
        {
          "output_type": "stream",
          "name": "stdout",
          "text": [
            "02:53:40\n",
            "02\n",
            "53\n",
            "40\n"
          ]
        }
      ]
    },
    {
      "cell_type": "code",
      "source": [
        "import time\n",
        "\n",
        "x = int(time.strftime('%H'))\n",
        "if (x<12):\n",
        "  print(\"Good Morning\")\n",
        "elif (x<16):\n",
        "  print(\"Good Afternoon\")\n",
        "elif (x<19) :\n",
        "  print(\"Good Evening\")\n",
        "else :\n",
        "  print(\"Good Night\")"
      ],
      "metadata": {
        "colab": {
          "base_uri": "https://localhost:8080/"
        },
        "id": "uGzjg7NfjWsW",
        "outputId": "17e6bdd3-7185-4700-9ff8-f86442785128"
      },
      "execution_count": 3,
      "outputs": [
        {
          "output_type": "stream",
          "name": "stdout",
          "text": [
            "Good Morning\n"
          ]
        }
      ]
    },
    {
      "cell_type": "markdown",
      "source": [
        "# Match Case"
      ],
      "metadata": {
        "id": "3X_zQvXxbb73"
      }
    },
    {
      "cell_type": "code",
      "source": [
        "#  It's like switch case but still different\n",
        "\n",
        "a = int(input(\"Enter the number: \"))\n",
        "match a:\n",
        "  case 0:\n",
        "    print(\"a is zero.\")\n",
        "  case 4 if a%2==0 :\n",
        "    print(\"x%2==0 and case is 4\")\n",
        "  case _ if a < 10:\n",
        "    print(\"a is negative\")\n",
        "  case _:\n",
        "    print(\"This is deafult\")"
      ],
      "metadata": {
        "colab": {
          "base_uri": "https://localhost:8080/"
        },
        "id": "kEppwA-2begf",
        "outputId": "421e95fb-8f9b-4c08-e813-3114fd35dd09"
      },
      "execution_count": 6,
      "outputs": [
        {
          "output_type": "stream",
          "name": "stdout",
          "text": [
            "Enter the number: 23\n",
            "This is deafult\n"
          ]
        }
      ]
    },
    {
      "cell_type": "markdown",
      "source": [
        "# for loop"
      ],
      "metadata": {
        "id": "lLeWSH2ceaQR"
      }
    },
    {
      "cell_type": "code",
      "source": [
        "# for string\n",
        "\n",
        "a = \"Hello World\"\n",
        "for i in a:\n",
        "  print(i,end=\", \")"
      ],
      "metadata": {
        "colab": {
          "base_uri": "https://localhost:8080/"
        },
        "id": "_iYWyhCNeeWl",
        "outputId": "3c7ca0ce-849d-4aa0-f6ed-231eb75bba41"
      },
      "execution_count": 7,
      "outputs": [
        {
          "output_type": "stream",
          "name": "stdout",
          "text": [
            "H, e, l, l, o,  , W, o, r, l, d, "
          ]
        }
      ]
    },
    {
      "cell_type": "code",
      "source": [
        "#for list\n",
        "\n",
        "a = ['abs','ajsb','dujeb','aisjsd','hddfb']\n",
        "for i in a:\n",
        "  print(i)\n",
        "  for j in i:\n",
        "    print(j,end=\", \")\n",
        "  print()"
      ],
      "metadata": {
        "colab": {
          "base_uri": "https://localhost:8080/"
        },
        "id": "sD7LMAjkenKd",
        "outputId": "a4726572-e7ed-4053-8fa6-43b12456a425"
      },
      "execution_count": 9,
      "outputs": [
        {
          "output_type": "stream",
          "name": "stdout",
          "text": [
            "abs\n",
            "a, b, s, \n",
            "ajsb\n",
            "a, j, s, b, \n",
            "dujeb\n",
            "d, u, j, e, b, \n",
            "aisjsd\n",
            "a, i, s, j, s, d, \n",
            "hddfb\n",
            "h, d, d, f, b, \n"
          ]
        }
      ]
    },
    {
      "cell_type": "code",
      "source": [
        "# range\n",
        "\n",
        "for i in range(5):\n",
        "  print(i,end=\", \")"
      ],
      "metadata": {
        "colab": {
          "base_uri": "https://localhost:8080/"
        },
        "id": "HQzw1u2_fELq",
        "outputId": "2db788a6-ebeb-48d6-d840-4eb06f666a1f"
      },
      "execution_count": 10,
      "outputs": [
        {
          "output_type": "stream",
          "name": "stdout",
          "text": [
            "0, 1, 2, 3, 4, "
          ]
        }
      ]
    },
    {
      "cell_type": "code",
      "source": [
        "# range for a range\n",
        "\n",
        "for i in range(5,10):\n",
        "  print(i,end=\", \")"
      ],
      "metadata": {
        "colab": {
          "base_uri": "https://localhost:8080/"
        },
        "id": "79zRvrSefSMq",
        "outputId": "974f05ad-d77d-49d4-f14f-c06912228b1a"
      },
      "execution_count": 11,
      "outputs": [
        {
          "output_type": "stream",
          "name": "stdout",
          "text": [
            "5, 6, 7, 8, 9, "
          ]
        }
      ]
    },
    {
      "cell_type": "code",
      "source": [
        "# range as in A.P\n",
        "\n",
        "for i in range(1,45,2):\n",
        "  print(i,end=\", \")"
      ],
      "metadata": {
        "colab": {
          "base_uri": "https://localhost:8080/"
        },
        "id": "jJHhCgQvfZ8k",
        "outputId": "6943332e-f11d-4b27-ad34-0e417adf0d03"
      },
      "execution_count": 12,
      "outputs": [
        {
          "output_type": "stream",
          "name": "stdout",
          "text": [
            "1, 3, 5, 7, 9, 11, 13, 15, 17, 19, 21, 23, 25, 27, 29, 31, 33, 35, 37, 39, 41, 43, "
          ]
        }
      ]
    },
    {
      "cell_type": "markdown",
      "source": [
        "# While loop"
      ],
      "metadata": {
        "id": "2czVIWMbg1L1"
      }
    },
    {
      "cell_type": "code",
      "source": [
        "# while loop\n",
        "\n",
        "i = 5\n",
        "while i>=0:\n",
        "  print(i,end=\", \")\n",
        "  i=i-1\n"
      ],
      "metadata": {
        "colab": {
          "base_uri": "https://localhost:8080/"
        },
        "id": "J9tXBelJg3Cg",
        "outputId": "5802c386-5d54-4dae-ca5d-b2c8b333ad7b"
      },
      "execution_count": 13,
      "outputs": [
        {
          "output_type": "stream",
          "name": "stdout",
          "text": [
            "5, 4, 3, 2, 1, 0, "
          ]
        }
      ]
    },
    {
      "cell_type": "code",
      "source": [
        "# while loop with else\n",
        "\n",
        "i = 12\n",
        "while(i>0):\n",
        "  print(i,end=\", \")\n",
        "  i = i-1\n",
        "else:\n",
        "  print(\"\\nNow i is zero\",i)"
      ],
      "metadata": {
        "colab": {
          "base_uri": "https://localhost:8080/"
        },
        "id": "OZwDK4onhH7C",
        "outputId": "7de92282-1aec-4b80-f7c9-b493742a111d"
      },
      "execution_count": 16,
      "outputs": [
        {
          "output_type": "stream",
          "name": "stdout",
          "text": [
            "12, 11, 10, 9, 8, 7, 6, 5, 4, 3, 2, 1, \n",
            "Now i is zero 0\n"
          ]
        }
      ]
    },
    {
      "cell_type": "markdown",
      "source": [
        "# Break and Continue"
      ],
      "metadata": {
        "id": "5uN8B1A7iqxH"
      }
    },
    {
      "cell_type": "code",
      "source": [
        "# break\n",
        "for i in range(1,100):\n",
        "  print(i,end=\", \")\n",
        "  if i==10:\n",
        "    break\n",
        "\n",
        "#It breaks at end and doesn't move forward"
      ],
      "metadata": {
        "colab": {
          "base_uri": "https://localhost:8080/"
        },
        "id": "pH-W1WgbiwZm",
        "outputId": "29ba2b4e-de60-4e1d-de1e-4311f0cb520b"
      },
      "execution_count": 17,
      "outputs": [
        {
          "output_type": "stream",
          "name": "stdout",
          "text": [
            "1, 2, 3, 4, 5, 6, 7, 8, 9, 10, "
          ]
        }
      ]
    },
    {
      "cell_type": "code",
      "source": [
        "#continue\n",
        "for i in range(1,100):\n",
        "  if(i%5!=0):\n",
        "    continue\n",
        "  print(i,end=\", \")\n",
        "\n",
        "#Prints only multiple of 5"
      ],
      "metadata": {
        "colab": {
          "base_uri": "https://localhost:8080/"
        },
        "id": "qEeVAGIWi_04",
        "outputId": "9e65e09d-779a-42e7-d280-c7356baa8a50"
      },
      "execution_count": 19,
      "outputs": [
        {
          "output_type": "stream",
          "name": "stdout",
          "text": [
            "5, 10, 15, 20, 25, 30, 35, 40, 45, 50, 55, 60, 65, 70, 75, 80, 85, 90, 95, "
          ]
        }
      ]
    },
    {
      "cell_type": "markdown",
      "source": [
        "# Functions"
      ],
      "metadata": {
        "id": "dNW9kah8kk5P"
      }
    },
    {
      "cell_type": "code",
      "source": [
        "#Defining the function\n",
        "def ameans(a,b):\n",
        "  print((a+b)/2)\n",
        "\n",
        "#Calling the function\n",
        "ameans(12,45)"
      ],
      "metadata": {
        "colab": {
          "base_uri": "https://localhost:8080/"
        },
        "id": "uwC3eEJVkmhl",
        "outputId": "a0019060-1a7b-41fd-be44-41276bb84f24"
      },
      "execution_count": 20,
      "outputs": [
        {
          "output_type": "stream",
          "name": "stdout",
          "text": [
            "28.5\n"
          ]
        }
      ]
    },
    {
      "cell_type": "code",
      "source": [
        "#Use of pass\n",
        "def ameans(a,b):\n",
        "\n",
        "a = 45\n",
        "b = 12\n",
        "\n",
        "ameans(a,b)\n",
        "\n",
        "#It would give error"
      ],
      "metadata": {
        "colab": {
          "base_uri": "https://localhost:8080/",
          "height": 106
        },
        "id": "E2-du-35lR7d",
        "outputId": "a27cd562-35fd-473b-e6d3-6be61b5749a6"
      },
      "execution_count": 21,
      "outputs": [
        {
          "output_type": "error",
          "ename": "IndentationError",
          "evalue": "expected an indented block after function definition on line 2 (<ipython-input-21-085cc0526621>, line 4)",
          "traceback": [
            "\u001b[0;36m  File \u001b[0;32m\"<ipython-input-21-085cc0526621>\"\u001b[0;36m, line \u001b[0;32m4\u001b[0m\n\u001b[0;31m    a = 45\u001b[0m\n\u001b[0m    ^\u001b[0m\n\u001b[0;31mIndentationError\u001b[0m\u001b[0;31m:\u001b[0m expected an indented block after function definition on line 2\n"
          ]
        }
      ]
    },
    {
      "cell_type": "code",
      "source": [
        "# In order to avoid the above error, we use pass\n",
        "\n",
        "def ameans(a,b):\n",
        "  pass\n",
        "\n",
        "a = 45\n",
        "b = 12\n",
        "\n",
        "ameans(a,b)"
      ],
      "metadata": {
        "id": "6P2ADhJ7lfIv"
      },
      "execution_count": 22,
      "outputs": []
    }
  ]
}